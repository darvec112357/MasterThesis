{
 "cells": [
  {
   "cell_type": "code",
   "execution_count": 1,
   "metadata": {},
   "outputs": [],
   "source": [
    "import pandas as pd\n",
    "import numpy as np\n",
    "import random,re\n",
    "import json\n",
    "from datasets import load_dataset\n",
    "from utils import *\n",
    "import matplotlib.pyplot as plt\n",
    "pd.set_option('display.max_colwidth', None)"
   ]
  },
  {
   "cell_type": "code",
   "execution_count": 2,
   "metadata": {},
   "outputs": [],
   "source": [
    "df_cot_gemma = pd.read_csv('/cluster/project/sachan/liuron/Thesis/experiments/baseline/gsm8k_predictions_final_model_cot.csv').drop(columns=['id'])\n",
    "df_pot_gemma = pd.read_csv('/cluster/project/sachan/liuron/Thesis/experiments/baseline/gsm8k_predictions_final_model_pot.csv').drop(columns=['id'])\n",
    "df_sub_gemma = pd.read_csv('/cluster/project/sachan/liuron/Thesis/experiments/baseline/gsm8k_predictions_final_model_sub.csv').drop(columns=['id'])\n",
    "\n"
   ]
  },
  {
   "cell_type": "code",
   "execution_count": 5,
   "metadata": {},
   "outputs": [],
   "source": [
    "df_svamp = pd.read_csv('/cluster/project/sachan/liuron/Thesis/experiments/baseline/svamp_predictions_final_model_cot.csv')\n",
    "df_asdiv = pd.read_csv('/cluster/project/sachan/liuron/Thesis/experiments/baseline/asdiv_predictions_final_model_cot.csv')"
   ]
  },
  {
   "cell_type": "code",
   "execution_count": 14,
   "metadata": {},
   "outputs": [
    {
     "name": "stdout",
     "output_type": "stream",
     "text": [
      "0.712\n",
      "0.79510556621881\n"
     ]
    }
   ],
   "source": [
    "count = 0\n",
    "answers = df_svamp['answer']\n",
    "cot_output = df_svamp['predictions']\n",
    "for i in range(len(df_svamp)):\n",
    "    ans_cot = extract_pred(cot_output[i])\n",
    "    if abs(ans_cot - answers[i]) < 1e-6:\n",
    "        count += 1\n",
    "print(count/len(df_svamp))\n",
    "\n",
    "count = 0\n",
    "total = 0\n",
    "answers = df_asdiv['answer']\n",
    "cot_output = df_asdiv['predictions']\n",
    "for i in range(len(df_asdiv)):\n",
    "    try:\n",
    "        a = float(answers[i])\n",
    "        total += 1\n",
    "    except Exception:\n",
    "        continue\n",
    "    ans_cot = extract_pred(cot_output[i])\n",
    "    # print(type(ans_cot))\n",
    "    if abs(ans_cot - float(answers[i])) < 1e-6:\n",
    "        count += 1\n",
    "print(count/total)"
   ]
  },
  {
   "cell_type": "code",
   "execution_count": null,
   "metadata": {},
   "outputs": [],
   "source": []
  }
 ],
 "metadata": {
  "kernelspec": {
   "display_name": "Python 3",
   "language": "python",
   "name": "python3"
  },
  "language_info": {
   "codemirror_mode": {
    "name": "ipython",
    "version": 3
   },
   "file_extension": ".py",
   "mimetype": "text/x-python",
   "name": "python",
   "nbconvert_exporter": "python",
   "pygments_lexer": "ipython3",
   "version": "3.11.6"
  }
 },
 "nbformat": 4,
 "nbformat_minor": 2
}
