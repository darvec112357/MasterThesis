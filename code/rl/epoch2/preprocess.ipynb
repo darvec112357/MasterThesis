{
 "cells": [
  {
   "cell_type": "code",
   "execution_count": 1,
   "metadata": {},
   "outputs": [],
   "source": [
    "import json\n",
    "from datasets import Dataset\n",
    "import re,os\n",
    "import numpy as np\n",
    "import pandas as pd\n",
    "from utils import *\n",
    "import random"
   ]
  },
  {
   "cell_type": "code",
   "execution_count": 2,
   "metadata": {},
   "outputs": [],
   "source": [
    "df_mm_all = pd.read_csv('../../inference/results/llama/results-all-mm.csv')\n",
    "# df_mm_cot = pd.read_csv('../../inference/results/llama/llama-mm-cot.csv')\n",
    "# df_mm_sub = pd.read_csv('../../inference/results/llama/llama-mm-sub.csv')\n",
    "df_gsm_test = pd.read_csv('../../inference/results/llama/results-all-test.csv')\n",
    "df_gsm_train = pd.read_csv('../../inference/results/llama/results-all-train.csv')\n",
    "df_mm_all['question'] = df_mm_all['question'].apply(lambda x: x[:-1])\n",
    "df_gsm_test['question'] = df_gsm_test['question'].apply(lambda x: x[:-1])\n",
    "df_gsm_train['question'] = df_gsm_train['question'].apply(lambda x: x[:-1])"
   ]
  },
  {
   "cell_type": "code",
   "execution_count": 3,
   "metadata": {},
   "outputs": [
    {
     "name": "stderr",
     "output_type": "stream",
     "text": [
      "/cluster/home/liuron/.local/lib/python3.11/site-packages/numpy/core/fromnumeric.py:57: FutureWarning: 'DataFrame.swapaxes' is deprecated and will be removed in a future version. Please use 'DataFrame.transpose' instead.\n",
      "  return bound(*args, **kwds)\n"
     ]
    }
   ],
   "source": [
    "dfs = np.array_split(df_mm_all, 20)\n",
    "example_prompt = \"\"\"Below is an instruction that describes a task, paired with an input that provides further context. Write a response that appropriately completes the request.\n",
    "\n",
    "Instruction:\n",
    "Solve the following Math Word Problem by firstly generating a strategy, then solving the problem according to the generated strategy.\n",
    "\n",
    "Input:\n",
    "Question: {}\n",
    "<incorrect>None\n",
    "\n",
    "Response:\n",
    "<correct>\"\"\"\n",
    "\n",
    "for i in range(len(dfs)):\n",
    "    temp = {'text': [example_prompt.format(x) for x in dfs[i]['question']],\n",
    "            'correct-answer':list(dfs[i]['correct-answer']),\n",
    "            'question': [x for x in dfs[i]['question']]}\n",
    "    with open('/cluster/project/sachan/liuron/Thesis/experiments/rl/epoch2/data/parts/part{}.json'.format(i+1), 'w') as json_file:\n",
    "        json.dump(temp,json_file)"
   ]
  },
  {
   "cell_type": "markdown",
   "metadata": {},
   "source": [
    "**Run the code below after running sample.py**"
   ]
  },
  {
   "cell_type": "code",
   "execution_count": 2,
   "metadata": {},
   "outputs": [],
   "source": [
    "train = []\n",
    "val = []\n",
    "directory_path = '/cluster/project/sachan/liuron/Thesis/experiments/rl/epoch2/data/train/gemma'\n",
    "for path in os.listdir(directory_path):\n",
    "    with open(directory_path + '/' + path, 'r') as json_file:\n",
    "        if 'train' in path:\n",
    "            train.extend(json.load(json_file)['text'])\n",
    "        else:\n",
    "            val.extend(json.load(json_file)['text'])\n",
    "with open('/cluster/project/sachan/liuron/Thesis/experiments/rl/epoch2/data/train.json', 'w') as json_file:\n",
    "        json.dump({'text':train},json_file)\n",
    "with open('/cluster/project/sachan/liuron/Thesis/experiments/rl/epoch2/data/val.json', 'w') as json_file:\n",
    "        json.dump({'text':val},json_file)"
   ]
  },
  {
   "cell_type": "code",
   "execution_count": 3,
   "metadata": {},
   "outputs": [
    {
     "name": "stdout",
     "output_type": "stream",
     "text": [
      "194480\n",
      "21617\n"
     ]
    }
   ],
   "source": [
    "with open('/cluster/project/sachan/liuron/Thesis/experiments/rl/epoch2/data/train.json', 'r') as json_file:\n",
    "        dataset_train = json.load(json_file)['text']\n",
    "with open('/cluster/project/sachan/liuron/Thesis/experiments/rl/epoch2/data/val.json', 'r') as json_file:\n",
    "        dataset_val = json.load(json_file)['text']\n",
    "dataset = dataset_train + dataset_val\n",
    "print(len(dataset_train))\n",
    "print(len(dataset_val))"
   ]
  },
  {
   "cell_type": "code",
   "execution_count": 4,
   "metadata": {},
   "outputs": [
    {
     "name": "stdout",
     "output_type": "stream",
     "text": [
      "194480\n",
      "21617\n",
      "111113\n",
      "21512\n"
     ]
    }
   ],
   "source": [
    "def filter_incorrect_tag(dataset):\n",
    "    res = []\n",
    "    for i in range(len(dataset)):\n",
    "        response_part = dataset[i].split('\\nResponse:\\n')[1]\n",
    "        prompt_part = '<incorrect>' + dataset[i].split('\\nResponse:\\n')[0]\n",
    "        if '<correct>Sub-questioning' in response_part and '?' not in response_part:\n",
    "            continue\n",
    "        if '<incorrect>Sub-questioning' in prompt_part and '?' not in prompt_part.split('<incorrect>Sub-questioning')[1]:\n",
    "            continue\n",
    "        res.append(dataset[i])\n",
    "    return res\n",
    "\n",
    "dataset_train = filter_incorrect_tag(dataset_train)\n",
    "dataset_val = filter_incorrect_tag(dataset_val)\n",
    "print(len(dataset_train))\n",
    "print(len(dataset_val))\n",
    "random.shuffle(dataset_train)\n",
    "random.shuffle(dataset_val)\n",
    "with open('/cluster/project/sachan/liuron/Thesis/experiments/rl/epoch2/data/train.json', 'w') as json_file:\n",
    "    json.dump({'text':dataset_train},json_file)\n",
    "with open('/cluster/project/sachan/liuron/Thesis/experiments/rl/epoch2/data/val.json', 'w') as json_file:\n",
    "    json.dump({'text':dataset_val},json_file)"
   ]
  }
 ],
 "metadata": {
  "kernelspec": {
   "display_name": "Python 3",
   "language": "python",
   "name": "python3"
  },
  "language_info": {
   "codemirror_mode": {
    "name": "ipython",
    "version": 3
   },
   "file_extension": ".py",
   "mimetype": "text/x-python",
   "name": "python",
   "nbconvert_exporter": "python",
   "pygments_lexer": "ipython3",
   "version": "3.11.6"
  }
 },
 "nbformat": 4,
 "nbformat_minor": 2
}
