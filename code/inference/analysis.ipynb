{
 "cells": [
  {
   "cell_type": "code",
   "execution_count": 1,
   "metadata": {},
   "outputs": [],
   "source": [
    "import pandas as pd\n",
    "import numpy as np\n",
    "import re\n",
    "from utils import *\n",
    "import json\n",
    "import random\n",
    "pd.set_option('display.max_colwidth', None)"
   ]
  },
  {
   "cell_type": "code",
   "execution_count": 2,
   "metadata": {},
   "outputs": [],
   "source": [
    "def read_results(model,dataset):\n",
    "    if dataset != 'mm':\n",
    "        df_cot = pd.read_csv(f'results/{model}/{model}-{dataset}-cot.csv')\n",
    "        df_sub = pd.read_csv(f'results/{model}/{model}-{dataset}-sub.csv')\n",
    "        df_pot = pd.read_csv(f'results/{model}/{model}-{dataset}-pot.csv')\n",
    "    else:\n",
    "        df_cot_parts,df_sub_parts,df_pot_parts = [],[],[]\n",
    "        for i in range(5):\n",
    "            df_cot_parts.append(pd.read_csv(f'results/{model}/{model}-{dataset}-cot-part{i+1}.csv'))\n",
    "            df_sub_parts.append(pd.read_csv(f'results/{model}/{model}-{dataset}-sub-part{i+1}.csv'))\n",
    "            df_pot_parts.append(pd.read_csv(f'results/{model}/{model}-{dataset}-pot-part{i+1}.csv'))\n",
    "        df_cot = pd.concat(df_cot_parts).reset_index(drop=True)\n",
    "        df_sub = pd.concat(df_sub_parts).reset_index(drop=True)\n",
    "        df_pot = pd.concat(df_pot_parts).reset_index(drop=True)\n",
    "    return df_cot, df_sub, df_pot"
   ]
  },
  {
   "cell_type": "code",
   "execution_count": 3,
   "metadata": {},
   "outputs": [],
   "source": [
    "df_cot, df_sub, df_pot = read_results('mistral','gsm-test')"
   ]
  },
  {
   "cell_type": "code",
   "execution_count": 4,
   "metadata": {},
   "outputs": [],
   "source": [
    "#We are interested whether the answers given by various strategies are correct. \n",
    "#We are also interested if any of the strategies can give correct answer to a question.\n",
    "def process_results(df_cot,df_sub,df_pot,dataset,model):\n",
    "    cot_output = df_cot['output_answer']\n",
    "    sub_output = df_sub['output_answer']\n",
    "    pot_output = df_pot['output_answer']\n",
    "    data_all = np.array([[x.split('Input:\\n')[-1].split('Response:\\n')[0][:-1] for x in df_cot['prompts']],\n",
    "                  [extract_pred(x) for x in cot_output],\n",
    "                  [extract_pred(x) for x in sub_output],\n",
    "                  [extract_pred_math_solver(x) for x in pot_output],\n",
    "                  df_sub['correct_answer']])\n",
    "    print(np.mean([len(x) for x in df_cot['output_answer']]))\n",
    "    print(np.mean([len(x) for x in df_sub['output_answer']]))\n",
    "    df_all = pd.DataFrame(data_all.T,columns=['question','cot-answer','sub-answer','pot-answer','correct-answer'])\n",
    "    df_all['cot-answer'] = df_all['cot-answer'].astype(float)\n",
    "    df_all['sub-answer'] = df_all['sub-answer'].astype(float)\n",
    "    df_all['pot-answer'] = df_all['pot-answer'].astype(float)\n",
    "    df_all['correct-answer'] = df_all['correct-answer'].astype(float)\n",
    "    df_all['cot-correct'] = (df_all['cot-answer'] - df_all['correct-answer']).abs() < 1e-6\n",
    "    df_all['sub-correct'] = (df_all['sub-answer'] - df_all['correct-answer']).abs() < 1e-6\n",
    "    df_all['pot-correct'] = (df_all['pot-answer'] - df_all['correct-answer']).abs() < 1e-6\n",
    "    df_all['correct'] = (df_all['sub-answer'] == df_all['correct-answer']) | \\\n",
    "                        (df_all['cot-answer'] == df_all['correct-answer']) | \\\n",
    "                        (df_all['pot-answer'] == df_all['correct-answer'])\n",
    "    print(np.mean(df_all['cot-correct']))\n",
    "    print(np.mean(df_all['sub-correct']))\n",
    "    print(np.mean(df_all['pot-correct']))\n",
    "    print(np.mean(df_all['correct']))\n",
    "    print()\n",
    "    df_all.to_csv(f'results-all-{model}-{dataset}.csv',index=False)\n",
    "\n",
    "def find_best_strategy(df):\n",
    "    res = []\n",
    "    ao_correct = df['ao-correct']\n",
    "    cot_correct = df['cot-correct']\n",
    "    sub_correct = df['sub-correct']\n",
    "    for i in range(len(df)):\n",
    "        if ao_correct[i]:\n",
    "            res.append('Answer Only')\n",
    "        elif cot_correct[i]:\n",
    "            res.append('Chain of Thought')\n",
    "        elif sub_correct[i]:\n",
    "            res.append('Sub-questioning')\n",
    "        else:\n",
    "            res.append('Unsolvable')\n",
    "    return res\n"
   ]
  },
  {
   "cell_type": "code",
   "execution_count": 5,
   "metadata": {},
   "outputs": [
    {
     "name": "stdout",
     "output_type": "stream",
     "text": [
      "426.85367702805155\n",
      "549.9446550416983\n",
      "0.5064442759666414\n",
      "0.5238817285822593\n",
      "0.5693707354056103\n",
      "0.7619408642911296\n",
      "\n"
     ]
    }
   ],
   "source": [
    "process_results(df_cot,df_sub,df_pot,'gsm-test','mistral')\n"
   ]
  },
  {
   "cell_type": "code",
   "execution_count": 6,
   "metadata": {},
   "outputs": [
    {
     "data": {
      "image/png": "[encoded data removed]",
      "text/plain": [
       "<Figure size 640x480 with 1 Axes>"
      ]
     },
     "metadata": {},
     "output_type": "display_data"
    }
   ],
   "source": [
    "import matplotlib.pyplot as plt\n",
    "import numpy as np\n",
    "\n",
    "data = (\"GSM-Train\", \"GSM-Test\", \"MetaMathQA\")\n",
    "accuracies = {\n",
    "    'Chain of Thought': (83.6, 77.9, 88.8),\n",
    "    'Least to Most': (77.8, 72.3, 80.9),\n",
    "    'Program of Thought': (75, 72, 77),\n",
    "    'Combined': (93.5,89.4,96)\n",
    "}\n",
    "\n",
    "x = np.arange(len(data))  # the label locations\n",
    "width = 0.15  # the width of the bars\n",
    "multiplier = 0\n",
    "\n",
    "fig, ax = plt.subplots(layout='constrained')\n",
    "plt.rcParams['font.size'] = 8\n",
    "for attribute, measurement in accuracies.items():\n",
    "    offset = width * multiplier\n",
    "    rects = ax.bar(x + offset, measurement, width, label=attribute)\n",
    "    ax.bar_label(rects, padding=3)\n",
    "    multiplier += 1\n",
    "\n",
    "# Add some text for labels, title and custom x-axis tick labels, etc.\n",
    "ax.set_ylabel('Accuracy (%)')\n",
    "ax.set_title('Few-shot learning accuracies of LLaMa 3')\n",
    "ax.set_xticks(x + width, data)\n",
    "# ax.set_yticks(fontsize=10)\n",
    "ax.legend(loc='upper left', ncols=3, fontsize=10)\n",
    "ax.set_ylim(0, 120)\n",
    "\n",
    "plt.show()"
   ]
  }
 ],
 "metadata": {
  "kernelspec": {
   "display_name": "Python 3",
   "language": "python",
   "name": "python3"
  },
  "language_info": {
   "codemirror_mode": {
    "name": "ipython",
    "version": 3
   },
   "file_extension": ".py",
   "mimetype": "text/x-python",
   "name": "python",
   "nbconvert_exporter": "python",
   "pygments_lexer": "ipython3",
   "version": "3.11.6"
  }
 },
 "nbformat": 4,
 "nbformat_minor": 2
}
