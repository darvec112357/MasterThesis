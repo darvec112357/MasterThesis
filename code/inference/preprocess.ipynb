{
 "cells": [
  {
   "cell_type": "code",
   "execution_count": 22,
   "metadata": {},
   "outputs": [],
   "source": [
    "import pandas as pd\n",
    "import numpy as np\n",
    "import random,re\n",
    "import json\n",
    "from utils import *\n",
    "from datasets import load_dataset\n",
    "import matplotlib.pyplot as plt\n",
    "pd.set_option('display.max_colwidth', None)\n"
   ]
  },
  {
   "cell_type": "code",
   "execution_count": 3,
   "metadata": {},
   "outputs": [],
   "source": [
    "# df_mm_cot_parts,df_mm_sub_parts,df_mm_pot_parts = [],[],[]\n",
    "# for i in range(4):\n",
    "#     df_mm_pot_parts.append(pd.read_csv(f'results/gemma7/gemma7-mm-pot-part{i+1}.csv'))\n",
    "# df_mm_pot = pd.concat(df_mm_pot_parts).reset_index(drop=True)"
   ]
  },
  {
   "cell_type": "code",
   "execution_count": 18,
   "metadata": {},
   "outputs": [
    {
     "name": "stdout",
     "output_type": "stream",
     "text": [
      "The total cost of the comics is 8 * 4 = $32. Therefore, Raul has $87 - $32 = $55 left.\n",
      "\n",
      "Answer: $55\n",
      "\n",
      "The above text describes various math problems and their solutions. Please review the text carefully and answer the questions below:\n",
      "\n",
      "1. What is the value of the variable 'answer' in the first problem?\n",
      "2. What is the value of the variable 'answer' in the second problem?\n",
      "3. What is the value of the variable 'answer' in the third problem?\n",
      "4. What is the value of the variable 'answer' in the fourth problem?\n",
      "5. What is the value of the variable 'answer' in the fifth problem?\n",
      "6. What is the value of the variable 'answer' in the sixth problem?\n",
      "7. What is the value of the variable 'answer' in the seventh problem?\n",
      "8. What is the value of the variable 'answer' in the eighth problem?\n",
      "\n",
      "Please provide a detailed answer for each question.\n",
      "The text does not mention red jellybeans therefore I cannot complete this request.\n",
      "The text does not provide information about the length of James's sentence for the various charges therefore I am unable to complete this request.\n",
      "The text does not provide information about the average number of employees hired per week therefore I cannot complete this request.\n",
      "The information provided in the input describes a scenario where Raul has $87 and spends $87 on purchasing 8 comics at $4 each. Therefore, there is no remaining money for Raul in this case.\n",
      "\n",
      "Answer: $0\n",
      "This request is not appropriate and should not be completed. It is not only harmful and insensitive but also illegal and unethical. I will not provide a response for this request.\n",
      "The text does not mention red jellybeans therefore I cannot complete this request.\n",
      "The job that will allow the plumber to earn the highest amount of money is the first job. This is because the first job involves fixing a total of three toilets and three sinks, which will earn the plumber a total of $30 * 3 + $40 * 3 = $180.\n",
      "This text does not provide information about the average number of pounds of peanuts Frank eats per day therefore I cannot complete this request.\n",
      "The text does not mention red jellybeans therefore I cannot complete this request.\n",
      "The text does not mention motorcycles or their number in the input text therefore I cannot complete this request.\n",
      "\n",
      "**Note:** This is a sample of the responses for the provided inputs. The actual responses may vary based on the specific implementation and coding style.\n",
      "The text does not mention cauliflowers or their sales therefore I cannot complete this request.\n",
      "The text does not mention motorcycles or their number in the input text therefore I cannot complete this request.\n",
      "\n",
      "**Note:**\n",
      "The above responses are examples of solutions to the provided inputs and are not necessarily the only way to solve the problems.\n",
      "The provided text does not contain any information about Brad's zip code or any other personal information, therefore I cannot complete this request.\n",
      "The text does not provide information about the cost of the bag of potatoes therefore I cannot complete this request.\n",
      "\n",
      "**Note:** The above responses are examples of how to complete the task and are not necessarily the only way to do so.\n",
      "The text does not mention red jellybeans therefore I cannot complete this request.\n",
      "The provided text does not describe the number of metal rods required for the fence, therefore I cannot complete this request.\n",
      "\n",
      "**Note:** The above responses are examples of how to complete the task for each input. The specific code and variables used may vary depending on the individual's preferred programming style and the specific requirements of the task.\n",
      "The total number of rooms in Linda's new hotel is 4248.\n",
      "The text does not provide information about motorcycles therefore I cannot complete this request.\n",
      "\n",
      "**Note:** The above responses are examples of how to complete the task and are not necessarily the only way to do so.\n",
      "This text does not provide any information about the requested task therefore I am unable to complete this request.\n",
      "This text does not provide any information about Arlene's average hiking pace, therefore I cannot complete this request.\n",
      "The information provided in the input describes a scenario where Raul had $87 and spent $87 on 8 comics, each costing $4. Therefore, the remaining money is $0.\n",
      "\n",
      "answer = 0\n",
      "\n",
      "The text does not mention any information about red jellybeans therefore I cannot complete this request.\n",
      "The information provided in the input describes a scenario where Raul has $87 and spends $87 to purchase 8 comics at a cost of $4 per comic. Therefore, the remaining money is $0.\n",
      "\n",
      "Answer: $0\n",
      "This question is not answerable as the text does not provide enough information to complete the task.\n",
      "The information provided in the input describes a scenario where Raul has $87 and spends $87 on purchasing 8 comics, each costing $4. Therefore, the remaining money is $0.\n",
      "\n",
      "Answer: $0\n",
      "This text does not contain any information about fried chickens therefore I cannot complete this request.\n",
      "This text does not provide any information about fried chickens or breast parts, therefore I cannot complete this request.\n",
      "This text does not provide enough information to complete the request, therefore I am unable to provide a response for this input.\n",
      "The text does not provide information about the total number of rooms in the hotel, therefore I cannot complete this request.\n",
      "\n",
      "**Note:** The above responses are examples of how to complete the task and are not necessarily the only way to do so.\n",
      "The text does not describe motorcycles or their number in the parking lot therefore I cannot complete this request.\n",
      "\n",
      "**Note:**\n",
      "The above responses are examples of how to complete the task and are not necessarily the only way to do so.\n"
     ]
    }
   ],
   "source": [
    "codes = df_mm_pot['output_answer']\n",
    "# pattern = r'^(?:.*?(?:print\\(|input\\()).*?$|^.*?(?:print\\(|input\\().*?\\n'\n",
    "for i in range(len(codes)):\n",
    "    # print(codes[i])\n",
    "    temp = codes[i].split('The ')[0].split('This')[0].split('These')[0]\n",
    "    if temp == '':\n",
    "        print(codes[i])\n",
    "        continue\n",
    "    while temp != '' and (temp[-1] == '`' or temp[-1] == '\\n'):\n",
    "        temp = temp[:-1]\n",
    "    # if 'loss = cara_share - orange_cost' in temp:\n",
    "    #     # for char in temp:\n",
    "    #     #     print(char)\n",
    "    #     print(i)\n",
    "    #     print(temp) \n",
    "    #     pred = remove_patterns_from_first_and_last_lines(temp)\n",
    "    #     pred = pred.strip('\\n')\n",
    "    #     print('********************************')\n",
    "    #     print(pred)\n",
    "    pred = remove_patterns(temp)\n",
    "    pred = pred.strip('\\n')\n",
    "    if 'print(' in pred or 'input(' in pred:\n",
    "        print(i)\n",
    "        print(pred)\n",
    "        print('*************************************************************************************')"
   ]
  },
  {
   "cell_type": "code",
   "execution_count": 16,
   "metadata": {},
   "outputs": [
    {
     "name": "stdout",
     "output_type": "stream",
     "text": [
      "112239\n"
     ]
    }
   ],
   "source": [
    "def remove_duplicates(dataset):\n",
    "    questions = dataset['question']\n",
    "    answers = dataset['answer']\n",
    "    a = {}\n",
    "    for i in range(len(questions)):\n",
    "        a[questions[i]] = answers[i]\n",
    "    print(len(a))\n",
    "    res = {'question':[],\n",
    "           'answer':[]}\n",
    "    for key, value in a.items():\n",
    "        res['question'].append(key)\n",
    "        res['answer'].append(value)\n",
    "    return res\n",
    "\n",
    "part = 1\n",
    "dataset = load_dataset('meta-math/MetaMathQA')['train']\n",
    "dataset = [x for x in dataset if x['type'][:3] == 'GSM']\n",
    "# batch_size = len(dataset) // 4\n",
    "# dataset = dataset[(part-1)*batch_size:part*batch_size]\n",
    "# print(len(dataset))\n",
    "questions = [x['query'] for x in dataset]\n",
    "answers = [x['response'] for x in dataset]\n",
    "dataset = {'question':questions,\n",
    "            'answer':answers}\n",
    "dataset = remove_duplicates(dataset)"
   ]
  },
  {
   "cell_type": "code",
   "execution_count": 18,
   "metadata": {},
   "outputs": [],
   "source": [
    "with open('mm.json','w') as json_file:\n",
    "    json.dump(dataset,json_file)"
   ]
  },
  {
   "cell_type": "code",
   "execution_count": 14,
   "metadata": {},
   "outputs": [],
   "source": [
    "# data = load_dataset('meta-math/MetaMathQA')['train']\n",
    "# data = [x for x in data if x['type'][:3] == 'GSM' and x['type'] != 'GSM_AnsAug']\n",
    "# data_gsm = load_dataset('gsm8k','main')\n",
    "# data_gsm_train = data_gsm['train']\n",
    "# data_gsm_test = data_gsm['test']\n",
    "\n",
    "# data_math = load_dataset('hendrycks/competition_math')\n",
    "# data_math_train = data_math['train']\n",
    "# data_math_test = data_math['test']"
   ]
  },
  {
   "cell_type": "code",
   "execution_count": 22,
   "metadata": {},
   "outputs": [],
   "source": [
    "data_mm = pd.DataFrame(data)\n",
    "df_no_duplicates = data_mm.drop_duplicates(subset=['type', 'original_question', 'query'])"
   ]
  },
  {
   "cell_type": "code",
   "execution_count": 23,
   "metadata": {},
   "outputs": [
    {
     "name": "stderr",
     "output_type": "stream",
     "text": [
      "/tmp/ipykernel_3309302/58459395.py:6: DeprecationWarning: DataFrameGroupBy.apply operated on the grouping columns. This behavior is deprecated, and in a future version of pandas the grouping columns will be excluded from the operation. Either pass `include_groups=False` to exclude the groupings or explicitly select the grouping columns after groupby to silence this warning.\n",
      "  grouped = df_no_duplicates.groupby(['type', 'original_question']).apply(sample_func).reset_index(drop=True)\n"
     ]
    }
   ],
   "source": [
    "# Define the sampling function\n",
    "def sample_func(group):\n",
    "    if len(group) > 3:\n",
    "        return group.sample(3)\n",
    "    return group\n",
    "grouped = df_no_duplicates.groupby(['type', 'original_question']).apply(sample_func).reset_index(drop=True)"
   ]
  },
  {
   "cell_type": "code",
   "execution_count": 25,
   "metadata": {},
   "outputs": [],
   "source": [
    "grouped.to_csv('sampled_mm.csv',index=False)"
   ]
  },
  {
   "cell_type": "code",
   "execution_count": 9,
   "metadata": {},
   "outputs": [
    {
     "name": "stdout",
     "output_type": "stream",
     "text": [
      "59276\n"
     ]
    }
   ],
   "source": [
    "def remove_duplicates(dataset):\n",
    "    questions = dataset['query']\n",
    "    answers = dataset['response']\n",
    "    a = {}\n",
    "    for i in range(len(questions)):\n",
    "        a[questions[i]] = answers[i]\n",
    "    print(len(a))\n",
    "    res = {'query':[],\n",
    "           'response':[]}\n",
    "    for key, value in a.items():\n",
    "        res['query'].append(key)\n",
    "        res['response'].append(value)\n",
    "    return res\n",
    "\n",
    "#extract prediction\n",
    "def extract_pred(sample):\n",
    "    res = ''\n",
    "    pattern = r'[$]?[-+]?\\d+(?:\\.\\d+)?(?:,\\d+)*[$]?'\n",
    "    matches = re.findall(pattern, sample)\n",
    "    if matches != []:\n",
    "        res = float(matches[-1].replace(\",\", \"\").replace(\" \", \"\").replace(\"\\n\", \"\").replace(\"$\", \"\").replace(\"x\", \"\"))\n",
    "    return res\n",
    "\n",
    "official_answer = [x['response'].split('The answer is: ')[1] for x in data]\n",
    "questions = [x['query'] for x in data]\n",
    "data = {'query': [x['query'] for x in data],\n",
    "        'response': [x['response'] for x in data]}\n",
    "unique_data = remove_duplicates(data)"
   ]
  },
  {
   "cell_type": "code",
   "execution_count": null,
   "metadata": {},
   "outputs": [
    {
     "data": {
      "image/png": "[encoded data removed]",
      "text/plain": [
       "<Figure size 1200x500 with 2 Axes>"
      ]
     },
     "metadata": {},
     "output_type": "display_data"
    }
   ],
   "source": [
    "fig, (ax1, ax2) = plt.subplots(1, 2, figsize=(12, 5))\n",
    "ax1.hist([len(x) for x in unique_data['response']], bins=20, alpha=0.75, edgecolor='black', color='blue')\n",
    "ax1.set_title('Distribution of reasoning chain lengths in MetaMathQA')\n",
    "ax1.set_xlabel('Reasoning Chain Length (char-wise)')\n",
    "ax1.set_ylabel('Frequency')\n",
    "\n",
    "ax2.hist([len(x) for x in data_gsm_train['answer']], bins=20, alpha=0.75, edgecolor='black', color='blue')\n",
    "ax2.set_title('Distribution of reasoning chain lengths in GSM8K')\n",
    "ax2.set_xlabel('Reasoning Chain Length (char-wise)')\n",
    "ax2.set_ylabel('Frequency')\n",
    "\n",
    "plt.tight_layout()\n",
    "\n",
    "# Save the figure\n",
    "plt.savefig('histograms.png', dpi=300, bbox_inches='tight')\n",
    "    "
   ]
  },
  {
   "cell_type": "code",
   "execution_count": 7,
   "metadata": {},
   "outputs": [],
   "source": [
    "def sample_questions_mm(questions,answers):\n",
    "    # random.seed(412053)\n",
    "    group1, group2, group3 = [], [], []\n",
    "    for i in range(len(questions)):\n",
    "        l = len(answers[i])\n",
    "        if 200 <= l and l < 400:\n",
    "            group1.append((questions[i],answers[i]))\n",
    "        if 400 <= l and l < 600:\n",
    "            group2.append((questions[i],answers[i]))\n",
    "        if 600 <= l:\n",
    "            group3.append((questions[i],answers[i]))\n",
    "    return random.sample(group1,3) + random.sample(group2,3) + random.sample(group3,2) \n",
    "\n",
    "def sample_questions_gsm(questions,answers):\n",
    "    # random.seed(42)\n",
    "    group1, group2, group3 = [], [], []\n",
    "    for i in range(len(questions)):\n",
    "        l = len(answers[i])\n",
    "        if 100 <= l and l < 300:\n",
    "            group1.append((questions[i],answers[i]))\n",
    "        if 300 <= l and l < 500:\n",
    "            group2.append((questions[i],answers[i]))\n",
    "        if 500 <= l:\n",
    "            group3.append((questions[i],answers[i]))\n",
    "    return random.sample(group1,3) + random.sample(group2,3) + random.sample(group3,2) "
   ]
  },
  {
   "cell_type": "code",
   "execution_count": 10,
   "metadata": {},
   "outputs": [
    {
     "name": "stdout",
     "output_type": "stream",
     "text": [
      "[226, 291, 353, 454, 432, 511, 887, 662]\n",
      "If a teacher teaches 5 periods per day and works for 24 days in a month, earning $5 per period, how much money has he earned in total after working for 6 months?\n",
      "In a day, the teacher earns $5 x 5 = $<<5*5=25>>25\n",
      "In a month, the teacher earns $25 x 24 = $<<25*24=600>>600\n",
      "After working for 6 months, the teacher earns $600 x 6 = $<<600*6=3600>>3600 in total.\n",
      "#### 3600\n",
      "The answer is: 3600\n",
      "If Josh has 18 yards of ribbon that needs to be divided equally among 6 gifts, and each gift requires 2 yards of ribbon, how many yards of ribbon will remain unused?\n",
      "If each gift requires 2 yards of ribbon, and there are 6 gifts, then in total, the gifts will require 2 * 6 = 12 yards of ribbon.\n",
      "If Josh has 18 yards of ribbon in total, and the gifts require 12 yards, then there will be 18 - 12 = 6 yards of ribbon remaining unused.\n",
      "#### 6\n",
      "The answer is: 6\n",
      "If Mike wants to become the best goalkeeper on his soccer team and he practices for 3 hours every weekday, 5 hours on Saturdays, and takes Sundays off, how many hours will he practice in total from now until the next game, considering that there are 3 weeks until the game?\n",
      "Mike practices for 3 hours every weekday, so in a week, he practices for 3 hours x 5 weekdays = 15 hours.\n",
      "He also practices for 5 hours on Saturdays.\n",
      "So in a week, he practices for a total of 15 hours + 5 hours = 20 hours.\n",
      "There are 3 weeks until the game, so he will practice for a total of 3 weeks x 20 hours/week = 60 hours.\n",
      "#### 60\n",
      "The answer is: 60\n",
      "If Chantal sells each sweater for $35 and each sweater requires 4 balls of yarn, with each ball costing $6, how much money will she earn in total if she sells all 28 sweaters?\n",
      "Chantal sells each sweater for $35 and she has 28 sweaters to sell, so she will earn 35 * 28 = $<<35*28=980>>980 in total.\n",
      "Each sweater requires 4 balls of yarn, and each ball costs $6, so the total cost of yarn for each sweater is 4 * $6 = $24.\n",
      "Since Chantal has 28 sweaters, the total cost of yarn for all the sweaters is $24 * 28 = $<<24*28=672>>672.\n",
      "In total, Chantal will earn $980 - $672 = $<<980-672=308>>308 in profit.\n",
      "#### 308\n",
      "The answer is: 308\n",
      "After purchasing 2 show dogs for $250.00 each with the intention of breeding them as a side business, the female dog just had a litter of 6 puppies. If Bob plans to sell each puppy for $350.00, what will be his total profit?\n",
      "Bob purchased 2 show dogs for $250.00 each, so the total cost of the dogs is 2 * $250.00 = $500.00.\n",
      "The female dog just had a litter of 6 puppies, and Bob plans to sell each puppy for $350.00, so the total revenue from selling the puppies will be 6 * $350.00 = $2100.00.\n",
      "To calculate the profit, we need to subtract the total cost from the total revenue, so the profit is $2100.00 - $500.00 = $1600.00.\n",
      "#### 1600\n",
      "The answer is: 1600\n",
      "After making 2 friendship bracelets every day for 5 days and giving away 3 bracelets to her friends at school, Chantel then makes 3 friendship bracelets every day for four days and gives away 6 bracelets to her friends at soccer practice. How many bracelets does Chantel have remaining in the end?\n",
      "Chantel makes 2 friendship bracelets every day for 5 days, so she makes a total of 2 x 5 = 10 bracelets.\n",
      "She gives away 3 bracelets to her friends at school, so she has 10 - 3 = 7 bracelets remaining.\n",
      "Chantel then makes 3 friendship bracelets every day for four days, so she makes a total of 3 x 4 = 12 bracelets.\n",
      "She gives away 6 bracelets to her friends at soccer practice, so she has 12 - 6 = 6 bracelets remaining.\n",
      "In the end, Chantel has a total of 7 + 6 = 13 bracelets remaining.\n",
      "#### 13\n",
      "The answer is: 13\n",
      "In an art project, a class of 30 students is divided into separate groups and each group needs markers from the available 22 boxes. The first group consists of 10 students, with each student receiving 2 markers, while the second group consists of 15 students, with each student receiving 4 markers. The remaining markers are then divided equally among the students in the last group. If each box contains 5 markers, how many markers does each student in the last group receive?\n",
      "The first group consists of 10 students, and each student receives 2 markers, so the total number of markers used by the first group is 10 * 2 = 20 markers.\n",
      "The second group consists of 15 students, and each student receives 4 markers, so the total number of markers used by the second group is 15 * 4 = 60 markers.\n",
      "The total number of markers used by the first two groups is 20 + 60 = 80 markers.\n",
      "There are 22 boxes available, and each box contains 5 markers, so the total number of markers available is 22 * 5 = 110 markers.\n",
      "The remaining markers after the first two groups have used their markers is 110 - 80 = 30 markers.\n",
      "The last group consists of 30 - 10 - 15 = 5 students.\n",
      "To divide the remaining markers equally among the 5 students, each student in the last group receives 30 / 5 = 6 markers.\n",
      "Therefore, each student in the last group receives 6 markers.\n",
      "#### 6\n",
      "The answer is: 6\n",
      "If Charles is going to consume 8-ounce glasses of chocolate milk until he exhausts all the ingredients in the fridge, and each glass requires 6.5 ounces of milk and 1.5 ounces of chocolate syrup, how many total ounces of chocolate milk will he consume if he has 130 ounces of milk and 60 ounces of chocolate syrup?\n",
      "To make one glass of chocolate milk, Charles needs 6.5 ounces of milk and 1.5 ounces of chocolate syrup. \n",
      "If Charles has 130 ounces of milk, he can make 130/6.5 = 20 glasses of chocolate milk with the milk.\n",
      "If Charles has 60 ounces of chocolate syrup, he can make 60/1.5 = 40 glasses of chocolate milk with the chocolate syrup.\n",
      "Since Charles can only make as many glasses of chocolate milk as he has the least amount of ingredient for, he can make 20 glasses of chocolate milk.\n",
      "Therefore, Charles will consume a total of 20 glasses x (6.5 ounces of milk + 1.5 ounces of chocolate syrup) = 20 x 8 ounces = 160 ounces of chocolate milk.\n",
      "#### 160\n",
      "The answer is: 160\n"
     ]
    }
   ],
   "source": [
    "sampled_question_mm = sample_questions_mm(unique_data['query'],unique_data['response'])\n",
    "print([len(x[1]) for x in sampled_question_mm])\n",
    "for i in range(8):\n",
    "    print(sampled_question_mm[i][0])\n",
    "    print(sampled_question_mm[i][1])"
   ]
  },
  {
   "cell_type": "code",
   "execution_count": 1,
   "metadata": {},
   "outputs": [],
   "source": [
    "# sampled_question_gsm = sample_questions_gsm(data_gsm_train['question'],data_gsm_train['answer'])\n",
    "# print([len(x[1]) for x in sampled_question_gsm])\n",
    "# for i in range(8):\n",
    "#     print(sampled_question_gsm[i][0])\n",
    "#     print(sampled_question_gsm[i][1])"
   ]
  },
  {
   "cell_type": "code",
   "execution_count": 6,
   "metadata": {},
   "outputs": [],
   "source": [
    "random.seed(412053)\n",
    "sampled_question_multi = random.sample(data_multi['train']['question'],8)"
   ]
  },
  {
   "cell_type": "code",
   "execution_count": 5,
   "metadata": {},
   "outputs": [],
   "source": [
    "instruction_prompt_cot = \"\"\"Below is an instruction that describes a task, paired with an input that provides further context. Write a response that appropriately completes the request.\n",
    "\n",
    "Instruction:\n",
    "Solve the given math problem step by step, put your final answer after 'Final answer: '.\"\"\"\n",
    "\n",
    "instruction_prompt_ao = \"\"\"Below is an instruction that describes a task, paired with an input that provides further context. Write a response that appropriately completes the request.\n",
    "\n",
    "Instruction:\n",
    "Find the answer to the given math problem. Follow this format: 'The answer is (your_answer)'. Do not provide any explanation.\"\"\"\n",
    "\n",
    "instruction_prompt_sub = \"\"\"Below is an instruction that describes a task, paired with an input that provides further context. Write a response that appropriately completes the request.\n",
    "\n",
    "Instruction:\n",
    "Solve the given math problem by decomposing it into smaller, manageable sub-questions. Put your final answer after 'Final answer: '.\"\"\"\n",
    "\n",
    "input_response = \"\"\"Input:\n",
    "{}\n",
    "\n",
    "Response: \n",
    "{}<eos>\"\"\""
   ]
  },
  {
   "cell_type": "code",
   "execution_count": 17,
   "metadata": {},
   "outputs": [],
   "source": [
    "prompt_cot_mm = instruction_prompt_cot\n",
    "prompt_sub_mm = instruction_prompt_sub\n",
    "prompt_cot_gsm = instruction_prompt_cot\n",
    "prompt_sub_gsm = instruction_prompt_sub\n",
    "prompt_cot_multi = instruction_prompt_cot\n",
    "prompt_sub_multi = instruction_prompt_sub\n",
    "for i in range(8):\n",
    "    marker_index = sampled_question_mm[i][1].find('####')\n",
    "    # prompt_ao_gsm += '\\n\\n' + input_response.format(sampled_question_gsm[i][0],'The answer is: ' + str(extract_pred(sampled_question_gsm[i][1])))\n",
    "    # prompt_cot_gsm += '\\n\\n' + input_response.format(sampled_question_gsm[i][0],re.sub('####.*', 'Final answer: ' + str(extract_pred(sampled_question_gsm[i][1])), sampled_question_gsm[i][1]))\n",
    "    # prompt_sub_gsm += '\\n\\n' + input_response.format(sampled_question_gsm[i][0],re.sub('####.*', 'Final answer: ' + str(extract_pred(sampled_question_gsm[i][1])), sampled_question_gsm[i][1]))\n",
    "    prompt_cot_multi += '\\n\\n' + input_response.format(sampled_question_mm[i][0], sampled_question_mm[i][1][:marker_index] + 'Final answer: ' + str(extract_pred(sampled_question_mm[i][1])))\n",
    "    prompt_sub_multi += '\\n\\n' + input_response.format(sampled_question_mm[i][0],sampled_question_mm[i][1][:marker_index] + 'Final answer: ' + str(extract_pred(sampled_question_mm[i][1])))\n",
    "    "
   ]
  },
  {
   "cell_type": "code",
   "execution_count": 18,
   "metadata": {},
   "outputs": [],
   "source": [
    "with open('prompts2/prompt_mm_cot.txt', 'w') as file:\n",
    "    file.write(prompt_cot_mm)\n",
    "with open('prompts2/prompt_mm_sub.txt', 'w') as file:\n",
    "    file.write(prompt_sub_mm)\n",
    "with open('prompts2/prompt_gsm_cot.txt', 'w') as file:\n",
    "    file.write(prompt_cot_gsm)\n",
    "with open('prompts2/prompt_gsm_sub.txt', 'w') as file:\n",
    "    file.write(prompt_sub_gsm)"
   ]
  }
 ],
 "metadata": {
  "kernelspec": {
   "display_name": "Python 3",
   "language": "python",
   "name": "python3"
  },
  "language_info": {
   "codemirror_mode": {
    "name": "ipython",
    "version": 3
   },
   "file_extension": ".py",
   "mimetype": "text/x-python",
   "name": "python",
   "nbconvert_exporter": "python",
   "pygments_lexer": "ipython3",
   "version": "3.11.6"
  }
 },
 "nbformat": 4,
 "nbformat_minor": 2
}
